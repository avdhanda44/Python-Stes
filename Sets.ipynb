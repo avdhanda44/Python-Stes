{
 "cells": [
  {
   "cell_type": "markdown",
   "id": "a9dca843",
   "metadata": {},
   "source": [
    "# Set :\n",
    "    - Set is a collection which is unordered, unchangeable*, and unindexed. \n",
    "    - No duplicate members.\n",
    "    - Sets are created using curly brackets{}.\n",
    "    * Set items are unchangeable, but you can remove and/or add items whenever you like."
   ]
  },
  {
   "cell_type": "code",
   "execution_count": 1,
   "id": "9d65f092",
   "metadata": {},
   "outputs": [
    {
     "name": "stdout",
     "output_type": "stream",
     "text": [
      "{'apple', 'banana', 'cherry'}\n"
     ]
    }
   ],
   "source": [
    "#Sets are unordered, so you cannot be sure in which order the items will appear.\n",
    "\n",
    "thisset = {\"apple\", \"banana\", \"cherry\"}\n",
    "print(thisset)"
   ]
  },
  {
   "cell_type": "code",
   "execution_count": 2,
   "id": "018f24b5",
   "metadata": {},
   "outputs": [
    {
     "name": "stdout",
     "output_type": "stream",
     "text": [
      "{'apple', 'banana', 'cherry'}\n"
     ]
    }
   ],
   "source": [
    "#Duplicate values will be ignored:\n",
    "\n",
    "thisset = {\"apple\", \"banana\", \"cherry\", \"apple\"}\n",
    "print(thisset)"
   ]
  },
  {
   "cell_type": "code",
   "execution_count": 3,
   "id": "9422c0f3",
   "metadata": {},
   "outputs": [
    {
     "name": "stdout",
     "output_type": "stream",
     "text": [
      "3\n"
     ]
    }
   ],
   "source": [
    "# len is used to Get the number of items in a set:\n",
    "print(len(thisset))"
   ]
  },
  {
   "cell_type": "markdown",
   "id": "256831f0",
   "metadata": {},
   "source": [
    "#### Set items can be of any data type:"
   ]
  },
  {
   "cell_type": "code",
   "execution_count": 4,
   "id": "1779c85b",
   "metadata": {},
   "outputs": [],
   "source": [
    "set1 = {\"apple\", \"banana\", \"cherry\"}"
   ]
  },
  {
   "cell_type": "code",
   "execution_count": 5,
   "id": "3200b9dd",
   "metadata": {},
   "outputs": [],
   "source": [
    "set2 = {1, 5, 7, 9, 3}"
   ]
  },
  {
   "cell_type": "code",
   "execution_count": 6,
   "id": "dbcfeee6",
   "metadata": {},
   "outputs": [],
   "source": [
    "set3 = {True, False, False}"
   ]
  },
  {
   "cell_type": "code",
   "execution_count": 7,
   "id": "922f19e7",
   "metadata": {},
   "outputs": [],
   "source": [
    "set4 = {\"abc\", 34, True, 40, \"male\"}"
   ]
  },
  {
   "cell_type": "code",
   "execution_count": 8,
   "id": "a550481b",
   "metadata": {},
   "outputs": [
    {
     "name": "stdout",
     "output_type": "stream",
     "text": [
      "<class 'set'>\n"
     ]
    }
   ],
   "source": [
    "print(type(set4))"
   ]
  },
  {
   "cell_type": "code",
   "execution_count": 9,
   "id": "b8b684f0",
   "metadata": {},
   "outputs": [
    {
     "name": "stdout",
     "output_type": "stream",
     "text": [
      "{'apple', 'banana', 'cherry'}\n"
     ]
    }
   ],
   "source": [
    "# It is also possible to use the set() constructor to make a set\n",
    "\n",
    "thisset = set((\"apple\", \"banana\", \"cherry\")) # note the double round-brackets\n",
    "print(thisset)"
   ]
  },
  {
   "cell_type": "code",
   "execution_count": 10,
   "id": "a81bd516",
   "metadata": {},
   "outputs": [
    {
     "name": "stdout",
     "output_type": "stream",
     "text": [
      "apple\n",
      "banana\n",
      "cherry\n"
     ]
    }
   ],
   "source": [
    "# Loop through the set, and print the values:\n",
    "\n",
    "thisset = {\"apple\", \"banana\", \"cherry\"}\n",
    "\n",
    "for x in thisset:\n",
    "  print(x)"
   ]
  },
  {
   "cell_type": "code",
   "execution_count": 11,
   "id": "6ab1d782",
   "metadata": {},
   "outputs": [
    {
     "name": "stdout",
     "output_type": "stream",
     "text": [
      "True\n"
     ]
    }
   ],
   "source": [
    "# Check if \"banana\" is present in the set:\n",
    "\n",
    "thisset = {\"apple\", \"banana\", \"cherry\"}\n",
    "print(\"banana\" in thisset)"
   ]
  },
  {
   "cell_type": "markdown",
   "id": "303c1c61",
   "metadata": {},
   "source": [
    "### Functions over list"
   ]
  },
  {
   "cell_type": "markdown",
   "id": "48d66beb",
   "metadata": {},
   "source": [
    "#### set_name.add()"
   ]
  },
  {
   "cell_type": "code",
   "execution_count": 12,
   "id": "9c112364",
   "metadata": {},
   "outputs": [
    {
     "name": "stdout",
     "output_type": "stream",
     "text": [
      "{'apple', 'banana', 'orange', 'cherry'}\n"
     ]
    }
   ],
   "source": [
    "thisset = {\"apple\", \"banana\", \"cherry\"}\n",
    "thisset.add(\"orange\")                            # Add an item to a set\n",
    "print(thisset)"
   ]
  },
  {
   "cell_type": "markdown",
   "id": "aebe658f",
   "metadata": {},
   "source": [
    "#### set_name.update"
   ]
  },
  {
   "cell_type": "code",
   "execution_count": 13,
   "id": "006a63d3",
   "metadata": {},
   "outputs": [
    {
     "name": "stdout",
     "output_type": "stream",
     "text": [
      "{'banana', 'cherry', 'pineapple', 'apple', 'papaya', 'mango'}\n",
      "{'cherry', 'orange', 'banana', 'kiwi', 'apple'}\n"
     ]
    }
   ],
   "source": [
    "#To add items from another set into the current set, use the update() method.\n",
    "\n",
    "thisset = {\"apple\", \"banana\", \"cherry\"}\n",
    "tropical = {\"pineapple\", \"mango\", \"papaya\"}\n",
    "\n",
    "thisset.update(tropical)                        # Add elements from tropical into thisset\n",
    "print(thisset)\n",
    "\n",
    "# the object in the update() method does not have to be a set, \n",
    "# it can be any iterable object (tuples, lists, dictionaries etc.)\n",
    "\n",
    "thisset = {\"apple\", \"banana\", \"cherry\"}\n",
    "mylist = [\"kiwi\", \"orange\"]\n",
    "\n",
    "thisset.update(mylist)\n",
    "\n",
    "print(thisset)"
   ]
  },
  {
   "cell_type": "markdown",
   "id": "b2968a67",
   "metadata": {},
   "source": [
    "#### set_name.pop(): pop()remove the last item\n",
    " Sets are unordered, so you will not know what item that gets removed."
   ]
  },
  {
   "cell_type": "code",
   "execution_count": 14,
   "id": "1f6ba404",
   "metadata": {},
   "outputs": [
    {
     "name": "stdout",
     "output_type": "stream",
     "text": [
      "apple\n",
      "{'banana', 'cherry'}\n"
     ]
    }
   ],
   "source": [
    "thisset = {\"apple\", \"banana\", \"cherry\"}\n",
    "x = thisset.pop()\n",
    "print(x)\n",
    "print(thisset)"
   ]
  },
  {
   "cell_type": "markdown",
   "id": "e98cc583",
   "metadata": {},
   "source": [
    "#### set_name.remove(): If the item to remove does not exist, remove() will raise an error."
   ]
  },
  {
   "cell_type": "code",
   "execution_count": 15,
   "id": "26690f2b",
   "metadata": {},
   "outputs": [
    {
     "name": "stdout",
     "output_type": "stream",
     "text": [
      "{'apple', 'cherry'}\n"
     ]
    }
   ],
   "source": [
    "thisset = {\"apple\", \"banana\", \"cherry\"}\n",
    "thisset.remove(\"banana\")                       # Remove banana from set\n",
    "print(thisset)                                "
   ]
  },
  {
   "cell_type": "markdown",
   "id": "cb7bab9f",
   "metadata": {},
   "source": [
    "#### set_name.discard(): If the item to remove does not exist, discard() will NOT raise an error."
   ]
  },
  {
   "cell_type": "code",
   "execution_count": 16,
   "id": "cf39e49b",
   "metadata": {},
   "outputs": [
    {
     "name": "stdout",
     "output_type": "stream",
     "text": [
      "{'apple', 'cherry'}\n"
     ]
    }
   ],
   "source": [
    "thisset = {\"apple\", \"banana\", \"cherry\"}\n",
    "thisset.discard(\"banana\")                       # Remove banana from set\n",
    "print(thisset)                                  "
   ]
  },
  {
   "cell_type": "markdown",
   "id": "69b33c9c",
   "metadata": {},
   "source": [
    "#### set_name.clear():  Empties the set"
   ]
  },
  {
   "cell_type": "code",
   "execution_count": 17,
   "id": "b5f5df49",
   "metadata": {},
   "outputs": [
    {
     "name": "stdout",
     "output_type": "stream",
     "text": [
      "set()\n"
     ]
    }
   ],
   "source": [
    "thisset = {\"apple\", \"banana\", \"cherry\"}\n",
    "thisset.clear()\n",
    "print(thisset)"
   ]
  },
  {
   "cell_type": "markdown",
   "id": "b5c1100f",
   "metadata": {},
   "source": [
    "#### del setname: The del keyword will delete the set completely"
   ]
  },
  {
   "cell_type": "code",
   "execution_count": 18,
   "id": "b2ae6bc9",
   "metadata": {},
   "outputs": [],
   "source": [
    "thisset = {\"apple\", \"banana\", \"cherry\"}\n",
    "del thisset                                    \n",
    "# print(thisset)"
   ]
  },
  {
   "cell_type": "markdown",
   "id": "8cc07732",
   "metadata": {},
   "source": [
    "#### Union: Returns a new set with all items from both sets & will exclude any duplicate items."
   ]
  },
  {
   "cell_type": "code",
   "execution_count": 19,
   "id": "5d3e22bc",
   "metadata": {},
   "outputs": [
    {
     "name": "stdout",
     "output_type": "stream",
     "text": [
      "{1, 2, 3, 'c', 'a', 'b'}\n"
     ]
    }
   ],
   "source": [
    "set1 = {\"a\", \"b\" , \"c\"}\n",
    "set2 = {1, 2, 3}\n",
    "\n",
    "set3 = set1.union(set2)\n",
    "print(set3)"
   ]
  },
  {
   "cell_type": "markdown",
   "id": "e49f341a",
   "metadata": {},
   "source": [
    "#### update(): Will exclude any duplicate items."
   ]
  },
  {
   "cell_type": "code",
   "execution_count": 20,
   "id": "bccb6726",
   "metadata": {},
   "outputs": [
    {
     "name": "stdout",
     "output_type": "stream",
     "text": [
      "{1, 2, 3, 'c', 'a', 'b'}\n"
     ]
    }
   ],
   "source": [
    "set1 = {\"a\", \"b\" , \"c\"}\n",
    "set2 = {1, 2, 3}\n",
    "\n",
    "set1.update(set2)                           #inserts the items in set2 into set1:\n",
    "print(set1)"
   ]
  },
  {
   "cell_type": "markdown",
   "id": "7cf13b82",
   "metadata": {},
   "source": [
    "#### intersection_update(): Will keep only the items that are present in both sets."
   ]
  },
  {
   "cell_type": "code",
   "execution_count": 21,
   "id": "aa05ff5f",
   "metadata": {},
   "outputs": [
    {
     "name": "stdout",
     "output_type": "stream",
     "text": [
      "{'apple'}\n"
     ]
    }
   ],
   "source": [
    "x = {\"apple\", \"banana\", \"cherry\"}\n",
    "y = {\"google\", \"microsoft\", \"apple\"}\n",
    "\n",
    "x.intersection_update(y)\n",
    "print(x)"
   ]
  },
  {
   "cell_type": "markdown",
   "id": "729431f4",
   "metadata": {},
   "source": [
    "#### intersection(): Will return a new set, that only contains the items that are present in both sets."
   ]
  },
  {
   "cell_type": "code",
   "execution_count": 22,
   "id": "dc1e5e80",
   "metadata": {},
   "outputs": [
    {
     "name": "stdout",
     "output_type": "stream",
     "text": [
      "{'apple'}\n"
     ]
    }
   ],
   "source": [
    "x = {\"apple\", \"banana\", \"cherry\"}\n",
    "y = {\"google\", \"microsoft\", \"apple\"}\n",
    "\n",
    "z = x.intersection(y)\n",
    "print(z)"
   ]
  },
  {
   "cell_type": "markdown",
   "id": "2e765374",
   "metadata": {},
   "source": [
    "#### symmetric_difference_update(): keep only the elements that are NOT present in both sets."
   ]
  },
  {
   "cell_type": "code",
   "execution_count": 23,
   "id": "ee1c17eb",
   "metadata": {},
   "outputs": [
    {
     "name": "stdout",
     "output_type": "stream",
     "text": [
      "{'cherry', 'google', 'banana', 'microsoft'}\n"
     ]
    }
   ],
   "source": [
    "x = {\"apple\", \"banana\", \"cherry\"}\n",
    "y = {\"google\", \"microsoft\", \"apple\"}\n",
    "\n",
    "x.symmetric_difference_update(y)\n",
    "print(x)"
   ]
  },
  {
   "cell_type": "markdown",
   "id": "bbf07ff0",
   "metadata": {},
   "source": [
    "#### symmetric_difference(): Will return a new set, that contains only the elements that are NOT present in both sets."
   ]
  },
  {
   "cell_type": "code",
   "execution_count": 24,
   "id": "c2cfb1a4",
   "metadata": {},
   "outputs": [
    {
     "name": "stdout",
     "output_type": "stream",
     "text": [
      "{'cherry', 'google', 'banana', 'microsoft'}\n"
     ]
    }
   ],
   "source": [
    "x = {\"apple\", \"banana\", \"cherry\"}\n",
    "y = {\"google\", \"microsoft\", \"apple\"}\n",
    "\n",
    "z = x.symmetric_difference(y)\n",
    "print(z)"
   ]
  },
  {
   "cell_type": "markdown",
   "id": "88da5301",
   "metadata": {},
   "source": [
    "####  copy(): Returns a copy of the set"
   ]
  },
  {
   "cell_type": "code",
   "execution_count": 25,
   "id": "8b096a89",
   "metadata": {},
   "outputs": [
    {
     "name": "stdout",
     "output_type": "stream",
     "text": [
      "{'apple', 'banana', 'cherry'}\n"
     ]
    }
   ],
   "source": [
    "fruits = {\"apple\", \"banana\", \"cherry\"}\n",
    "\n",
    "x = fruits.copy()\n",
    "print(x)"
   ]
  },
  {
   "cell_type": "markdown",
   "id": "19e2ad82",
   "metadata": {},
   "source": [
    "####  difference(): Returns a set containing the difference between two or more sets"
   ]
  },
  {
   "cell_type": "code",
   "execution_count": 26,
   "id": "a3b59acb",
   "metadata": {},
   "outputs": [
    {
     "name": "stdout",
     "output_type": "stream",
     "text": [
      "{'banana', 'cherry'}\n"
     ]
    }
   ],
   "source": [
    "x = {\"apple\", \"banana\", \"cherry\"}\n",
    "y = {\"google\", \"microsoft\", \"apple\"}\n",
    "\n",
    "z = x.difference(y)\n",
    "print(z)"
   ]
  },
  {
   "cell_type": "markdown",
   "id": "d46767ad",
   "metadata": {},
   "source": [
    "#### difference_update(): Removes the items in this set that are also included in another, specified set"
   ]
  },
  {
   "cell_type": "code",
   "execution_count": 27,
   "id": "34e2bd62",
   "metadata": {},
   "outputs": [
    {
     "name": "stdout",
     "output_type": "stream",
     "text": [
      "{'banana', 'cherry'}\n"
     ]
    }
   ],
   "source": [
    "x = {\"apple\", \"banana\", \"cherry\"}\n",
    "y = {\"google\", \"microsoft\", \"apple\"}\n",
    "\n",
    "x.difference_update(y) \n",
    "print(x)"
   ]
  },
  {
   "cell_type": "markdown",
   "id": "576ac701",
   "metadata": {},
   "source": [
    "#### isdisjoint(): Returns whether two sets have a intersection or not"
   ]
  },
  {
   "cell_type": "code",
   "execution_count": 28,
   "id": "7ac99c38",
   "metadata": {},
   "outputs": [
    {
     "name": "stdout",
     "output_type": "stream",
     "text": [
      "True\n"
     ]
    }
   ],
   "source": [
    "#Return True if no items in set x is present in set y:\n",
    "\n",
    "x = {\"apple\", \"banana\", \"cherry\"}\n",
    "y = {\"google\", \"microsoft\", \"facebook\"}\n",
    "\n",
    "z = x.isdisjoint(y) \n",
    "print(z)"
   ]
  },
  {
   "cell_type": "markdown",
   "id": "99f9898a",
   "metadata": {},
   "source": [
    "#### issuperset():Returns whether this set contains another set or not"
   ]
  },
  {
   "cell_type": "code",
   "execution_count": 29,
   "id": "65b8816a",
   "metadata": {},
   "outputs": [
    {
     "name": "stdout",
     "output_type": "stream",
     "text": [
      "True\n"
     ]
    }
   ],
   "source": [
    "# Return True if all items set y are present in set x:\n",
    "\n",
    "x = {\"f\", \"e\", \"d\", \"c\", \"b\", \"a\"}\n",
    "y = {\"a\", \"b\", \"c\"}\n",
    "\n",
    "z = x.issuperset(y) \n",
    "print(z)"
   ]
  },
  {
   "cell_type": "markdown",
   "id": "b9e2257c",
   "metadata": {},
   "source": [
    "#### issubset(): Returns whether another set contains this set or not"
   ]
  },
  {
   "cell_type": "code",
   "execution_count": 30,
   "id": "ac41c69c",
   "metadata": {},
   "outputs": [
    {
     "name": "stdout",
     "output_type": "stream",
     "text": [
      "True\n"
     ]
    }
   ],
   "source": [
    "# Return True if all items in set x are present in set y:\n",
    "\n",
    "x = {\"a\", \"b\", \"c\"}\n",
    "y = {\"f\", \"e\", \"d\", \"c\", \"b\", \"a\"}\n",
    "\n",
    "z = x.issubset(y) \n",
    "print(z)"
   ]
  }
 ],
 "metadata": {
  "kernelspec": {
   "display_name": "Python 3 (ipykernel)",
   "language": "python",
   "name": "python3"
  },
  "language_info": {
   "codemirror_mode": {
    "name": "ipython",
    "version": 3
   },
   "file_extension": ".py",
   "mimetype": "text/x-python",
   "name": "python",
   "nbconvert_exporter": "python",
   "pygments_lexer": "ipython3",
   "version": "3.9.7"
  }
 },
 "nbformat": 4,
 "nbformat_minor": 5
}
